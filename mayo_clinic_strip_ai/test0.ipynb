{
 "cells": [
  {
   "cell_type": "code",
   "execution_count": 1,
   "id": "7552bd36",
   "metadata": {
    "_cell_guid": "ff9c1656-38e9-4211-90e1-7bd91cd70bd8",
    "_uuid": "a0817923-ab7c-4bcc-9075-f548f0d0e97f",
    "collapsed": true,
    "execution": {
     "iopub.execute_input": "2022-08-10T02:40:12.007032Z",
     "iopub.status.busy": "2022-08-10T02:40:12.006472Z",
     "iopub.status.idle": "2022-08-10T02:44:01.792339Z",
     "shell.execute_reply": "2022-08-10T02:44:01.791155Z"
    },
    "jupyter": {
     "outputs_hidden": true
    },
    "papermill": {
     "duration": 229.793026,
     "end_time": "2022-08-10T02:44:01.795429",
     "exception": false,
     "start_time": "2022-08-10T02:40:12.002403",
     "status": "completed"
    },
    "tags": []
   },
   "outputs": [
    {
     "name": "stdout",
     "output_type": "stream",
     "text": [
      "Cloning into 'kaggle'...\r\n",
      "remote: Enumerating objects: 619, done.\u001b[K\r\n",
      "remote: Counting objects: 100% (269/269), done.\u001b[K\r\n",
      "remote: Compressing objects: 100% (164/164), done.\u001b[K\r\n",
      "remote: Total 619 (delta 168), reused 180 (delta 102), pack-reused 350\u001b[K\r\n",
      "Receiving objects: 100% (619/619), 118.91 KiB | 1.05 MiB/s, done.\r\n",
      "Resolving deltas: 100% (369/369), done.\r\n",
      "/kaggle/working/kaggle\n",
      "Requirement already satisfied: pip in /opt/conda/lib/python3.7/site-packages (22.1.2)\r\n",
      "Collecting pip\r\n",
      "  Downloading pip-22.2.2-py3-none-any.whl (2.0 MB)\r\n",
      "\u001b[2K     \u001b[90m━━━━━━━━━━━━━━━━━━━━━━━━━━━━━━━━━━━━━━━━\u001b[0m \u001b[32m2.0/2.0 MB\u001b[0m \u001b[31m5.3 MB/s\u001b[0m eta \u001b[36m0:00:00\u001b[0m\r\n",
      "\u001b[?25hInstalling collected packages: pip\r\n",
      "  Attempting uninstall: pip\r\n",
      "    Found existing installation: pip 22.1.2\r\n",
      "    Uninstalling pip-22.1.2:\r\n",
      "      Successfully uninstalled pip-22.1.2\r\n",
      "Successfully installed pip-22.2.2\r\n",
      "\u001b[33mWARNING: Running pip as the 'root' user can result in broken permissions and conflicting behaviour with the system package manager. It is recommended to use a virtual environment instead: https://pip.pypa.io/warnings/venv\u001b[0m\u001b[33m\r\n",
      "\u001b[0mLooking in indexes: https://pypi.org/simple, https://download.pytorch.org/whl/cu116\r\n",
      "Collecting functorch\r\n",
      "  Downloading functorch-0.2.1-cp37-cp37m-manylinux1_x86_64.whl (20.6 MB)\r\n",
      "\u001b[2K     \u001b[90m━━━━━━━━━━━━━━━━━━━━━━━━━━━━━━━━━━━━━━━━\u001b[0m \u001b[32m20.6/20.6 MB\u001b[0m \u001b[31m30.4 MB/s\u001b[0m eta \u001b[36m0:00:00\u001b[0m\r\n",
      "\u001b[?25hCollecting hydra-core\r\n",
      "  Downloading hydra_core-1.2.0-py3-none-any.whl (151 kB)\r\n",
      "\u001b[2K     \u001b[90m━━━━━━━━━━━━━━━━━━━━━━━━━━━━━━━━━━━━━━\u001b[0m \u001b[32m151.1/151.1 kB\u001b[0m \u001b[31m12.0 MB/s\u001b[0m eta \u001b[36m0:00:00\u001b[0m\r\n",
      "\u001b[?25hCollecting omegaconf\r\n",
      "  Downloading omegaconf-2.2.2-py3-none-any.whl (79 kB)\r\n",
      "\u001b[2K     \u001b[90m━━━━━━━━━━━━━━━━━━━━━━━━━━━━━━━━━━━━━━━━\u001b[0m \u001b[32m79.1/79.1 kB\u001b[0m \u001b[31m6.5 MB/s\u001b[0m eta \u001b[36m0:00:00\u001b[0m\r\n",
      "\u001b[?25hRequirement already satisfied: opencv-python in /opt/conda/lib/python3.7/site-packages (from -r /kaggle/working/kaggle/requirements/main.in (line 4)) (4.5.4.60)\r\n",
      "Collecting opencv-python\r\n",
      "  Downloading opencv_python-4.6.0.66-cp36-abi3-manylinux_2_17_x86_64.manylinux2014_x86_64.whl (60.9 MB)\r\n",
      "\u001b[2K     \u001b[90m━━━━━━━━━━━━━━━━━━━━━━━━━━━━━━━━━━━━━━━━\u001b[0m \u001b[32m60.9/60.9 MB\u001b[0m \u001b[31m16.3 MB/s\u001b[0m eta \u001b[36m0:00:00\u001b[0m\r\n",
      "\u001b[?25hRequirement already satisfied: openslide-python in /opt/conda/lib/python3.7/site-packages (from -r /kaggle/working/kaggle/requirements/main.in (line 5)) (1.2.0)\r\n",
      "Requirement already satisfied: pandas in /opt/conda/lib/python3.7/site-packages (from -r /kaggle/working/kaggle/requirements/main.in (line 6)) (1.3.5)\r\n",
      "Requirement already satisfied: torch in /opt/conda/lib/python3.7/site-packages (from -r /kaggle/working/kaggle/requirements/main.in (line 7)) (1.11.0)\r\n",
      "Collecting torch\r\n",
      "  Downloading https://download.pytorch.org/whl/cu116/torch-1.12.1%2Bcu116-cp37-cp37m-linux_x86_64.whl (1904.8 MB)\r\n",
      "\u001b[2K     \u001b[90m━━━━━━━━━━━━━━━━━━━━━━━━━━━━━━━━━━━━━━━━\u001b[0m \u001b[32m1.9/1.9 GB\u001b[0m \u001b[31m715.3 kB/s\u001b[0m eta \u001b[36m0:00:00\u001b[0m\r\n",
      "\u001b[?25hRequirement already satisfied: torchmetrics in /opt/conda/lib/python3.7/site-packages (from -r /kaggle/working/kaggle/requirements/main.in (line 8)) (0.9.2)\r\n",
      "Collecting torchmetrics\r\n",
      "  Downloading torchmetrics-0.9.3-py3-none-any.whl (419 kB)\r\n",
      "\u001b[2K     \u001b[90m━━━━━━━━━━━━━━━━━━━━━━━━━━━━━━━━━━━━━━\u001b[0m \u001b[32m419.6/419.6 kB\u001b[0m \u001b[31m28.1 MB/s\u001b[0m eta \u001b[36m0:00:00\u001b[0m\r\n",
      "\u001b[?25hRequirement already satisfied: torchvision in /opt/conda/lib/python3.7/site-packages (from -r /kaggle/working/kaggle/requirements/main.in (line 9)) (0.12.0)\r\n",
      "Collecting torchvision\r\n",
      "  Downloading https://download.pytorch.org/whl/cu116/torchvision-0.13.1%2Bcu116-cp37-cp37m-linux_x86_64.whl (23.5 MB)\r\n",
      "\u001b[2K     \u001b[90m━━━━━━━━━━━━━━━━━━━━━━━━━━━━━━━━━━━━━━━━\u001b[0m \u001b[32m23.5/23.5 MB\u001b[0m \u001b[31m18.3 MB/s\u001b[0m eta \u001b[36m0:00:00\u001b[0m\r\n",
      "\u001b[?25hRequirement already satisfied: tensorboard in /opt/conda/lib/python3.7/site-packages (from -r /kaggle/working/kaggle/requirements/main.in (line 10)) (2.6.0)\r\n",
      "Collecting tensorboard\r\n",
      "  Downloading tensorboard-2.9.1-py3-none-any.whl (5.8 MB)\r\n",
      "\u001b[2K     \u001b[90m━━━━━━━━━━━━━━━━━━━━━━━━━━━━━━━━━━━━━━━━\u001b[0m \u001b[32m5.8/5.8 MB\u001b[0m \u001b[31m34.2 MB/s\u001b[0m eta \u001b[36m0:00:00\u001b[0m\r\n",
      "\u001b[?25hRequirement already satisfied: importlib-resources in /opt/conda/lib/python3.7/site-packages (from hydra-core->-r /kaggle/working/kaggle/requirements/main.in (line 2)) (5.8.0)\r\n",
      "Collecting antlr4-python3-runtime==4.9.*\r\n",
      "  Downloading antlr4-python3-runtime-4.9.3.tar.gz (117 kB)\r\n",
      "\u001b[2K     \u001b[90m━━━━━━━━━━━━━━━━━━━━━━━━━━━━━━━━━━━━━━━\u001b[0m \u001b[32m117.0/117.0 kB\u001b[0m \u001b[31m8.8 MB/s\u001b[0m eta \u001b[36m0:00:00\u001b[0m\r\n",
      "\u001b[?25h  Preparing metadata (setup.py) ... \u001b[?25l-\b \bdone\r\n",
      "\u001b[?25hRequirement already satisfied: packaging in /opt/conda/lib/python3.7/site-packages (from hydra-core->-r /kaggle/working/kaggle/requirements/main.in (line 2)) (21.3)\r\n",
      "Requirement already satisfied: PyYAML>=5.1.0 in /opt/conda/lib/python3.7/site-packages (from omegaconf->-r /kaggle/working/kaggle/requirements/main.in (line 3)) (6.0)\r\n",
      "Requirement already satisfied: numpy>=1.14.5 in /opt/conda/lib/python3.7/site-packages (from opencv-python->-r /kaggle/working/kaggle/requirements/main.in (line 4)) (1.21.6)\r\n",
      "Requirement already satisfied: Pillow in /opt/conda/lib/python3.7/site-packages (from openslide-python->-r /kaggle/working/kaggle/requirements/main.in (line 5)) (9.1.1)\r\n",
      "Requirement already satisfied: python-dateutil>=2.7.3 in /opt/conda/lib/python3.7/site-packages (from pandas->-r /kaggle/working/kaggle/requirements/main.in (line 6)) (2.8.2)\r\n",
      "Requirement already satisfied: pytz>=2017.3 in /opt/conda/lib/python3.7/site-packages (from pandas->-r /kaggle/working/kaggle/requirements/main.in (line 6)) (2022.1)\r\n",
      "Requirement already satisfied: typing-extensions in /opt/conda/lib/python3.7/site-packages (from torch->-r /kaggle/working/kaggle/requirements/main.in (line 7)) (4.1.1)\r\n",
      "Requirement already satisfied: requests in /opt/conda/lib/python3.7/site-packages (from torchvision->-r /kaggle/working/kaggle/requirements/main.in (line 9)) (2.28.1)\r\n",
      "Requirement already satisfied: google-auth<3,>=1.6.3 in /opt/conda/lib/python3.7/site-packages (from tensorboard->-r /kaggle/working/kaggle/requirements/main.in (line 10)) (1.35.0)\r\n",
      "Requirement already satisfied: setuptools>=41.0.0 in /opt/conda/lib/python3.7/site-packages (from tensorboard->-r /kaggle/working/kaggle/requirements/main.in (line 10)) (59.8.0)\r\n",
      "Requirement already satisfied: werkzeug>=1.0.1 in /opt/conda/lib/python3.7/site-packages (from tensorboard->-r /kaggle/working/kaggle/requirements/main.in (line 10)) (2.1.2)\r\n",
      "Requirement already satisfied: tensorboard-plugin-wit>=1.6.0 in /opt/conda/lib/python3.7/site-packages (from tensorboard->-r /kaggle/working/kaggle/requirements/main.in (line 10)) (1.8.1)\r\n",
      "Requirement already satisfied: google-auth-oauthlib<0.5,>=0.4.1 in /opt/conda/lib/python3.7/site-packages (from tensorboard->-r /kaggle/working/kaggle/requirements/main.in (line 10)) (0.4.6)\r\n",
      "Requirement already satisfied: protobuf<3.20,>=3.9.2 in /opt/conda/lib/python3.7/site-packages (from tensorboard->-r /kaggle/working/kaggle/requirements/main.in (line 10)) (3.19.4)\r\n",
      "Requirement already satisfied: markdown>=2.6.8 in /opt/conda/lib/python3.7/site-packages (from tensorboard->-r /kaggle/working/kaggle/requirements/main.in (line 10)) (3.3.7)\r\n",
      "Requirement already satisfied: absl-py>=0.4 in /opt/conda/lib/python3.7/site-packages (from tensorboard->-r /kaggle/working/kaggle/requirements/main.in (line 10)) (1.1.0)\r\n",
      "Requirement already satisfied: tensorboard-data-server<0.7.0,>=0.6.0 in /opt/conda/lib/python3.7/site-packages (from tensorboard->-r /kaggle/working/kaggle/requirements/main.in (line 10)) (0.6.1)\r\n",
      "Requirement already satisfied: wheel>=0.26 in /opt/conda/lib/python3.7/site-packages (from tensorboard->-r /kaggle/working/kaggle/requirements/main.in (line 10)) (0.37.1)\r\n",
      "Requirement already satisfied: grpcio>=1.24.3 in /opt/conda/lib/python3.7/site-packages (from tensorboard->-r /kaggle/working/kaggle/requirements/main.in (line 10)) (1.43.0)\r\n",
      "Requirement already satisfied: cachetools<5.0,>=2.0.0 in /opt/conda/lib/python3.7/site-packages (from google-auth<3,>=1.6.3->tensorboard->-r /kaggle/working/kaggle/requirements/main.in (line 10)) (4.2.4)\r\n",
      "Requirement already satisfied: six>=1.9.0 in /opt/conda/lib/python3.7/site-packages (from google-auth<3,>=1.6.3->tensorboard->-r /kaggle/working/kaggle/requirements/main.in (line 10)) (1.16.0)\r\n",
      "Requirement already satisfied: pyasn1-modules>=0.2.1 in /opt/conda/lib/python3.7/site-packages (from google-auth<3,>=1.6.3->tensorboard->-r /kaggle/working/kaggle/requirements/main.in (line 10)) (0.2.7)\r\n",
      "Requirement already satisfied: rsa<5,>=3.1.4 in /opt/conda/lib/python3.7/site-packages (from google-auth<3,>=1.6.3->tensorboard->-r /kaggle/working/kaggle/requirements/main.in (line 10)) (4.8)\r\n",
      "Requirement already satisfied: requests-oauthlib>=0.7.0 in /opt/conda/lib/python3.7/site-packages (from google-auth-oauthlib<0.5,>=0.4.1->tensorboard->-r /kaggle/working/kaggle/requirements/main.in (line 10)) (1.3.1)\r\n",
      "Requirement already satisfied: importlib-metadata>=4.4 in /opt/conda/lib/python3.7/site-packages (from markdown>=2.6.8->tensorboard->-r /kaggle/working/kaggle/requirements/main.in (line 10)) (4.12.0)\r\n",
      "Requirement already satisfied: idna<4,>=2.5 in /opt/conda/lib/python3.7/site-packages (from requests->torchvision->-r /kaggle/working/kaggle/requirements/main.in (line 9)) (3.3)\r\n",
      "Requirement already satisfied: certifi>=2017.4.17 in /opt/conda/lib/python3.7/site-packages (from requests->torchvision->-r /kaggle/working/kaggle/requirements/main.in (line 9)) (2022.6.15)\r\n",
      "Requirement already satisfied: charset-normalizer<3,>=2 in /opt/conda/lib/python3.7/site-packages (from requests->torchvision->-r /kaggle/working/kaggle/requirements/main.in (line 9)) (2.1.0)\r\n",
      "Requirement already satisfied: urllib3<1.27,>=1.21.1 in /opt/conda/lib/python3.7/site-packages (from requests->torchvision->-r /kaggle/working/kaggle/requirements/main.in (line 9)) (1.26.9)\r\n",
      "Requirement already satisfied: zipp>=3.1.0 in /opt/conda/lib/python3.7/site-packages (from importlib-resources->hydra-core->-r /kaggle/working/kaggle/requirements/main.in (line 2)) (3.8.0)\r\n",
      "Requirement already satisfied: pyparsing!=3.0.5,>=2.0.2 in /opt/conda/lib/python3.7/site-packages (from packaging->hydra-core->-r /kaggle/working/kaggle/requirements/main.in (line 2)) (3.0.9)\r\n",
      "Requirement already satisfied: pyasn1<0.5.0,>=0.4.6 in /opt/conda/lib/python3.7/site-packages (from pyasn1-modules>=0.2.1->google-auth<3,>=1.6.3->tensorboard->-r /kaggle/working/kaggle/requirements/main.in (line 10)) (0.4.8)\r\n",
      "Requirement already satisfied: oauthlib>=3.0.0 in /opt/conda/lib/python3.7/site-packages (from requests-oauthlib>=0.7.0->google-auth-oauthlib<0.5,>=0.4.1->tensorboard->-r /kaggle/working/kaggle/requirements/main.in (line 10)) (3.2.0)\r\n",
      "Building wheels for collected packages: antlr4-python3-runtime\r\n",
      "  Building wheel for antlr4-python3-runtime (setup.py) ... \u001b[?25l-\b \b\\\b \bdone\r\n",
      "\u001b[?25h  Created wheel for antlr4-python3-runtime: filename=antlr4_python3_runtime-4.9.3-py3-none-any.whl size=144575 sha256=faa3b074e3f743562b52ba9395c0fa088ff252b2d37635ee1afde829a07ef566\r\n",
      "  Stored in directory: /root/.cache/pip/wheels/8b/8d/53/2af8772d9aec614e3fc65e53d4a993ad73c61daa8bbd85a873\r\n",
      "Successfully built antlr4-python3-runtime\r\n",
      "Installing collected packages: antlr4-python3-runtime, torch, opencv-python, omegaconf, torchvision, torchmetrics, hydra-core, functorch, tensorboard\r\n",
      "  Attempting uninstall: torch\r\n",
      "    Found existing installation: torch 1.11.0\r\n",
      "    Uninstalling torch-1.11.0:\r\n",
      "      Successfully uninstalled torch-1.11.0\r\n",
      "  Attempting uninstall: opencv-python\r\n",
      "    Found existing installation: opencv-python 4.5.4.60\r\n",
      "    Uninstalling opencv-python-4.5.4.60:\r\n",
      "      Successfully uninstalled opencv-python-4.5.4.60\r\n",
      "  Attempting uninstall: torchvision\r\n",
      "    Found existing installation: torchvision 0.12.0\r\n",
      "    Uninstalling torchvision-0.12.0:\r\n",
      "      Successfully uninstalled torchvision-0.12.0\r\n",
      "  Attempting uninstall: torchmetrics\r\n",
      "    Found existing installation: torchmetrics 0.9.2\r\n",
      "    Uninstalling torchmetrics-0.9.2:\r\n",
      "      Successfully uninstalled torchmetrics-0.9.2\r\n",
      "  Attempting uninstall: tensorboard\r\n",
      "    Found existing installation: tensorboard 2.6.0\r\n",
      "    Uninstalling tensorboard-2.6.0:\r\n",
      "      Successfully uninstalled tensorboard-2.6.0\r\n",
      "\u001b[31mERROR: pip's dependency resolver does not currently take into account all the packages that are installed. This behaviour is the source of the following dependency conflicts.\r\n",
      "tensorflow-io 0.21.0 requires tensorflow-io-gcs-filesystem==0.21.0, which is not installed.\r\n",
      "tensorflow 2.6.4 requires absl-py~=0.10, but you have absl-py 1.1.0 which is incompatible.\r\n",
      "tensorflow 2.6.4 requires h5py~=3.1.0, but you have h5py 3.7.0 which is incompatible.\r\n",
      "tensorflow 2.6.4 requires numpy~=1.19.2, but you have numpy 1.21.6 which is incompatible.\r\n",
      "tensorflow 2.6.4 requires six~=1.15.0, but you have six 1.16.0 which is incompatible.\r\n",
      "tensorflow 2.6.4 requires tensorboard<2.7,>=2.6.0, but you have tensorboard 2.9.1 which is incompatible.\r\n",
      "tensorflow 2.6.4 requires typing-extensions<3.11,>=3.7, but you have typing-extensions 4.1.1 which is incompatible.\r\n",
      "tensorflow 2.6.4 requires wrapt~=1.12.1, but you have wrapt 1.14.1 which is incompatible.\r\n",
      "tensorflow-transform 1.9.0 requires tensorflow!=2.0.*,!=2.1.*,!=2.2.*,!=2.3.*,!=2.4.*,!=2.5.*,!=2.6.*,!=2.7.*,!=2.8.*,<2.10,>=1.15.5, but you have tensorflow 2.6.4 which is incompatible.\r\n",
      "tensorflow-serving-api 2.9.0 requires tensorflow<3,>=2.9.0, but you have tensorflow 2.6.4 which is incompatible.\r\n",
      "allennlp 2.10.0 requires protobuf==3.20.0, but you have protobuf 3.19.4 which is incompatible.\r\n",
      "allennlp 2.10.0 requires torch<1.12.0,>=1.10.0, but you have torch 1.12.1+cu116 which is incompatible.\r\n",
      "allennlp 2.10.0 requires torchvision<0.13.0,>=0.8.1, but you have torchvision 0.13.1+cu116 which is incompatible.\u001b[0m\u001b[31m\r\n",
      "\u001b[0mSuccessfully installed antlr4-python3-runtime-4.9.3 functorch-0.2.1 hydra-core-1.2.0 omegaconf-2.2.2 opencv-python-4.6.0.66 tensorboard-2.9.1 torch-1.12.1+cu116 torchmetrics-0.9.3 torchvision-0.13.1+cu116\r\n",
      "\u001b[33mWARNING: Running pip as the 'root' user can result in broken permissions and conflicting behaviour with the system package manager. It is recommended to use a virtual environment instead: https://pip.pypa.io/warnings/venv\u001b[0m\u001b[33m\r\n",
      "\u001b[0m"
     ]
    }
   ],
   "source": [
    "# Setup\n",
    "!git clone --branch=add-data https://github.com/schmidt-jake/kaggle.git\n",
    "%cd kaggle\n",
    "!pip install -U pip\n",
    "!pip install -U -r /kaggle/working/kaggle/requirements/main.in --extra-index-url https://download.pytorch.org/whl/cu116"
   ]
  },
  {
   "cell_type": "code",
   "execution_count": 2,
   "id": "59ef3548",
   "metadata": {
    "execution": {
     "iopub.execute_input": "2022-08-10T02:44:01.994970Z",
     "iopub.status.busy": "2022-08-10T02:44:01.993963Z",
     "iopub.status.idle": "2022-08-10T03:29:37.546402Z",
     "shell.execute_reply": "2022-08-10T03:29:37.545165Z"
    },
    "papermill": {
     "duration": 2735.655093,
     "end_time": "2022-08-10T03:29:37.549870",
     "exception": false,
     "start_time": "2022-08-10T02:44:01.894777",
     "status": "completed"
    },
    "tags": []
   },
   "outputs": [
    {
     "name": "stdout",
     "output_type": "stream",
     "text": [
      "[2022-08-10 02:44:06,662][__main__][INFO] - Using device: cuda:0\r\n",
      "[2022-08-10 02:44:06,738][__main__][INFO] - Labels: CE     888\r\n",
      "LAA    398\r\n",
      "Name: label, dtype: int64\r\n",
      "Adjusting learning rate of group 0 to 1.0000e-03.\r\n",
      "[2022-08-10 02:44:15,168][__main__][INFO] - training on 1286 samples\r\n",
      "[2022-08-10 02:44:15,168][__main__][INFO] - num workers: 2\r\n",
      "[2022-08-10 02:44:15,168][__main__][INFO] - prefetch samples per worker: 256\r\n",
      "[2022-08-10 02:44:15,168][__main__][INFO] - Starting epoch 0...\r\n",
      "/kaggle/working/kaggle/mayo_clinic_strip_ai/data.py:183: RuntimeWarning: Mean of empty slice.\r\n",
      "  if crop.mean() >= self.min_intersect_pct:\r\n",
      "/opt/conda/lib/python3.7/site-packages/numpy/core/_methods.py:189: RuntimeWarning: invalid value encountered in double_scalars\r\n",
      "  ret = ret.dtype.type(ret / rcount)\r\n",
      "/kaggle/working/kaggle/mayo_clinic_strip_ai/data.py:183: RuntimeWarning: Mean of empty slice.\r\n",
      "  if crop.mean() >= self.min_intersect_pct:\r\n",
      "/opt/conda/lib/python3.7/site-packages/numpy/core/_methods.py:189: RuntimeWarning: invalid value encountered in double_scalars\r\n",
      "  ret = ret.dtype.type(ret / rcount)\r\n",
      "Adjusting learning rate of group 0 to 1.0000e-03.\r\n",
      "[2022-08-10 02:50:41,198][__main__][INFO] - Starting epoch 1...\r\n",
      "Adjusting learning rate of group 0 to 1.0000e-03.\r\n",
      "[2022-08-10 02:55:25,069][__main__][INFO] - Starting epoch 2...\r\n",
      "Adjusting learning rate of group 0 to 1.0000e-03.\r\n",
      "[2022-08-10 02:59:50,783][__main__][INFO] - Starting epoch 3...\r\n",
      "Adjusting learning rate of group 0 to 1.0000e-03.\r\n",
      "[2022-08-10 03:04:11,438][__main__][INFO] - Starting epoch 4...\r\n",
      "Adjusting learning rate of group 0 to 1.0000e-03.\r\n",
      "[2022-08-10 03:08:27,827][__main__][INFO] - Starting epoch 5...\r\n",
      "Adjusting learning rate of group 0 to 1.0000e-03.\r\n",
      "[2022-08-10 03:12:47,026][__main__][INFO] - Starting epoch 6...\r\n",
      "Adjusting learning rate of group 0 to 1.0000e-03.\r\n",
      "[2022-08-10 03:16:56,442][__main__][INFO] - Starting epoch 7...\r\n",
      "Adjusting learning rate of group 0 to 1.0000e-03.\r\n",
      "[2022-08-10 03:21:07,272][__main__][INFO] - Starting epoch 8...\r\n",
      "Adjusting learning rate of group 0 to 1.0000e-03.\r\n",
      "[2022-08-10 03:25:11,504][__main__][INFO] - Starting epoch 9...\r\n",
      "Adjusting learning rate of group 0 to 1.0000e-03.\r\n",
      "[2022-08-10 03:29:20,000][__main__][INFO] - Saving model...\r\n",
      "[2022-08-10 03:29:21,651][__main__][WARNING] - Failed converting to torchscript:\r\n",
      "Compiled functions can't take variable number of arguments or use keyword-only arguments with defaults:\r\n",
      "  File \"/opt/conda/lib/python3.7/site-packages/functorch/_src/aot_autograd.py\", line 566\r\n",
      "        def forward(self, *args, **kwargs):\r\n",
      "                                  ~~~~~~~ <--- HERE\r\n",
      "            return compiled_f(\r\n",
      "                dict(_named_parameters(mod, remove_duplicate=False)),\r\n",
      "\r\n"
     ]
    }
   ],
   "source": [
    "# Train\n",
    "!python -m mayo_clinic_strip_ai.train roi_path=/kaggle/input/mayo-rois/ROIs.csv"
   ]
  },
  {
   "cell_type": "code",
   "execution_count": 3,
   "id": "c1f563f4",
   "metadata": {
    "execution": {
     "iopub.execute_input": "2022-08-10T03:29:37.745334Z",
     "iopub.status.busy": "2022-08-10T03:29:37.743632Z",
     "iopub.status.idle": "2022-08-10T03:29:39.795281Z",
     "shell.execute_reply": "2022-08-10T03:29:39.793969Z"
    },
    "papermill": {
     "duration": 2.152741,
     "end_time": "2022-08-10T03:29:39.797819",
     "exception": false,
     "start_time": "2022-08-10T03:29:37.645078",
     "status": "completed"
    },
    "tags": []
   },
   "outputs": [
    {
     "name": "stdout",
     "output_type": "stream",
     "text": [
      "/kaggle/working\n"
     ]
    }
   ],
   "source": [
    "# Prune outputs\n",
    "%cd ..\n",
    "!mv kaggle/outputs .\n",
    "! rm -r kaggle"
   ]
  }
 ],
 "metadata": {
  "kernelspec": {
   "display_name": "Python 3.9.13 ('venv': venv)",
   "language": "python",
   "name": "python3"
  },
  "language_info": {
   "codemirror_mode": {
    "name": "ipython",
    "version": 3
   },
   "file_extension": ".py",
   "mimetype": "text/x-python",
   "name": "python",
   "nbconvert_exporter": "python",
   "pygments_lexer": "ipython3",
   "version": "3.9.13"
  },
  "papermill": {
   "default_parameters": {},
   "duration": 2976.66354,
   "end_time": "2022-08-10T03:29:40.638412",
   "environment_variables": {},
   "exception": null,
   "input_path": "__notebook__.ipynb",
   "output_path": "__notebook__.ipynb",
   "parameters": {},
   "start_time": "2022-08-10T02:40:03.974872",
   "version": "2.3.4"
  },
  "vscode": {
   "interpreter": {
    "hash": "d52c5dda17f9508f8c81892741a0a3fc0e911e20955170b5bf56fae13e0374bd"
   }
  }
 },
 "nbformat": 4,
 "nbformat_minor": 5
}
